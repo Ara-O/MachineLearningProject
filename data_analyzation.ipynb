{
 "cells": [
  {
   "cell_type": "markdown",
   "metadata": {},
   "source": [
    "Eyiara Oladipo"
   ]
  },
  {
   "cell_type": "code",
   "execution_count": 19,
   "metadata": {},
   "outputs": [],
   "source": [
    "import pandas as pd\n",
    "\n",
    "data = pd.read_csv(\"RawWifiScans.csv\")"
   ]
  },
  {
   "cell_type": "code",
   "execution_count": 20,
   "metadata": {},
   "outputs": [
    {
     "data": {
      "text/html": [
       "<div>\n",
       "<style scoped>\n",
       "    .dataframe tbody tr th:only-of-type {\n",
       "        vertical-align: middle;\n",
       "    }\n",
       "\n",
       "    .dataframe tbody tr th {\n",
       "        vertical-align: top;\n",
       "    }\n",
       "\n",
       "    .dataframe thead th {\n",
       "        text-align: right;\n",
       "    }\n",
       "</style>\n",
       "<table border=\"1\" class=\"dataframe\">\n",
       "  <thead>\n",
       "    <tr style=\"text-align: right;\">\n",
       "      <th></th>\n",
       "      <th>id</th>\n",
       "      <th>currentLocationX</th>\n",
       "      <th>currentLocationY</th>\n",
       "      <th>floor</th>\n",
       "      <th>capabilities</th>\n",
       "      <th>centerFreq0</th>\n",
       "      <th>centerFreq1</th>\n",
       "      <th>channelWidth</th>\n",
       "      <th>frequency</th>\n",
       "      <th>RSS</th>\n",
       "      <th>roomNumber</th>\n",
       "      <th>MAC</th>\n",
       "    </tr>\n",
       "  </thead>\n",
       "  <tbody>\n",
       "    <tr>\n",
       "      <th>0</th>\n",
       "      <td>6325</td>\n",
       "      <td>296.645111</td>\n",
       "      <td>617.172668</td>\n",
       "      <td>0</td>\n",
       "      <td>[WPA2-PSK-CCMP][RSN-PSK-CCMP][ESS]</td>\n",
       "      <td>5775</td>\n",
       "      <td>0</td>\n",
       "      <td>2</td>\n",
       "      <td>5785</td>\n",
       "      <td>-91</td>\n",
       "      <td>134</td>\n",
       "      <td>44:48:c1:be:37:f0</td>\n",
       "    </tr>\n",
       "    <tr>\n",
       "      <th>1</th>\n",
       "      <td>6326</td>\n",
       "      <td>296.645111</td>\n",
       "      <td>617.172668</td>\n",
       "      <td>0</td>\n",
       "      <td>[WPA2-PSK-CCMP][RSN-PSK-CCMP][ESS]</td>\n",
       "      <td>2462</td>\n",
       "      <td>0</td>\n",
       "      <td>0</td>\n",
       "      <td>2462</td>\n",
       "      <td>-57</td>\n",
       "      <td>134</td>\n",
       "      <td>24:de:c6:3f:f0:30</td>\n",
       "    </tr>\n",
       "    <tr>\n",
       "      <th>2</th>\n",
       "      <td>6327</td>\n",
       "      <td>296.645111</td>\n",
       "      <td>617.172668</td>\n",
       "      <td>0</td>\n",
       "      <td>[WPA2-PSK-CCMP][RSN-PSK-CCMP][ESS]</td>\n",
       "      <td>2462</td>\n",
       "      <td>0</td>\n",
       "      <td>0</td>\n",
       "      <td>2462</td>\n",
       "      <td>-54</td>\n",
       "      <td>134</td>\n",
       "      <td>24:de:c6:3f:f0:30</td>\n",
       "    </tr>\n",
       "    <tr>\n",
       "      <th>3</th>\n",
       "      <td>6328</td>\n",
       "      <td>296.645111</td>\n",
       "      <td>617.172668</td>\n",
       "      <td>0</td>\n",
       "      <td>[WPA2-PSK-CCMP][RSN-PSK-CCMP][ESS]</td>\n",
       "      <td>2462</td>\n",
       "      <td>0</td>\n",
       "      <td>0</td>\n",
       "      <td>2462</td>\n",
       "      <td>-51</td>\n",
       "      <td>134</td>\n",
       "      <td>24:de:c6:3f:f0:30</td>\n",
       "    </tr>\n",
       "    <tr>\n",
       "      <th>4</th>\n",
       "      <td>6329</td>\n",
       "      <td>296.645111</td>\n",
       "      <td>617.172668</td>\n",
       "      <td>0</td>\n",
       "      <td>[WPA2-PSK-CCMP][RSN-PSK-CCMP][ESS]</td>\n",
       "      <td>5775</td>\n",
       "      <td>0</td>\n",
       "      <td>2</td>\n",
       "      <td>5745</td>\n",
       "      <td>-81</td>\n",
       "      <td>134</td>\n",
       "      <td>34:fc:b9:60:d5:90</td>\n",
       "    </tr>\n",
       "  </tbody>\n",
       "</table>\n",
       "</div>"
      ],
      "text/plain": [
       "     id  currentLocationX  currentLocationY  floor  \\\n",
       "0  6325        296.645111        617.172668      0   \n",
       "1  6326        296.645111        617.172668      0   \n",
       "2  6327        296.645111        617.172668      0   \n",
       "3  6328        296.645111        617.172668      0   \n",
       "4  6329        296.645111        617.172668      0   \n",
       "\n",
       "                         capabilities  centerFreq0  centerFreq1  channelWidth  \\\n",
       "0  [WPA2-PSK-CCMP][RSN-PSK-CCMP][ESS]         5775            0             2   \n",
       "1  [WPA2-PSK-CCMP][RSN-PSK-CCMP][ESS]         2462            0             0   \n",
       "2  [WPA2-PSK-CCMP][RSN-PSK-CCMP][ESS]         2462            0             0   \n",
       "3  [WPA2-PSK-CCMP][RSN-PSK-CCMP][ESS]         2462            0             0   \n",
       "4  [WPA2-PSK-CCMP][RSN-PSK-CCMP][ESS]         5775            0             2   \n",
       "\n",
       "   frequency  RSS roomNumber                MAC  \n",
       "0       5785  -91        134  44:48:c1:be:37:f0  \n",
       "1       2462  -57        134  24:de:c6:3f:f0:30  \n",
       "2       2462  -54        134  24:de:c6:3f:f0:30  \n",
       "3       2462  -51        134  24:de:c6:3f:f0:30  \n",
       "4       5745  -81        134  34:fc:b9:60:d5:90  "
      ]
     },
     "execution_count": 20,
     "metadata": {},
     "output_type": "execute_result"
    }
   ],
   "source": [
    "# Previewing the dataset\n",
    "\n",
    "data.head()"
   ]
  },
  {
   "cell_type": "code",
   "execution_count": 8,
   "metadata": {},
   "outputs": [
    {
     "name": "stdout",
     "output_type": "stream",
     "text": [
      "Number of samples: 1518\n",
      "Number of columns: 12\n"
     ]
    }
   ],
   "source": [
    "# Determine the number of samples and features in the dataset\n",
    "data_shape = data.shape\n",
    "\n",
    "number_of_samples = data_shape[0]\n",
    "number_of_columns = data_shape[1]\n",
    "\n",
    "print(f\"Number of samples: {number_of_samples}\")\n",
    "print(f\"Number of columns: {number_of_columns}\")"
   ]
  },
  {
   "cell_type": "code",
   "execution_count": 10,
   "metadata": {},
   "outputs": [
    {
     "name": "stdout",
     "output_type": "stream",
     "text": [
      "<class 'pandas.core.frame.DataFrame'>\n",
      "RangeIndex: 1518 entries, 0 to 1517\n",
      "Data columns (total 12 columns):\n",
      " #   Column            Non-Null Count  Dtype  \n",
      "---  ------            --------------  -----  \n",
      " 0   id                1518 non-null   int64  \n",
      " 1   currentLocationX  1518 non-null   float64\n",
      " 2   currentLocationY  1518 non-null   float64\n",
      " 3   floor             1518 non-null   int64  \n",
      " 4   capabilities      1518 non-null   object \n",
      " 5   centerFreq0       1518 non-null   int64  \n",
      " 6   centerFreq1       1518 non-null   int64  \n",
      " 7   channelWidth      1518 non-null   int64  \n",
      " 8   frequency         1518 non-null   int64  \n",
      " 9   RSS               1518 non-null   int64  \n",
      " 10  roomNumber        1518 non-null   object \n",
      " 11  MAC               1518 non-null   object \n",
      "dtypes: float64(2), int64(7), object(3)\n",
      "memory usage: 142.4+ KB\n",
      "None\n"
     ]
    }
   ],
   "source": [
    "# All features \n",
    "print(data.info())"
   ]
  },
  {
   "cell_type": "code",
   "execution_count": 12,
   "metadata": {},
   "outputs": [
    {
     "data": {
      "text/plain": [
       "roomNumber\n",
       "222             173\n",
       "Fact Center     173\n",
       "375             158\n",
       "134             154\n",
       "230             146\n",
       "140             145\n",
       "234             143\n",
       "200             143\n",
       "224             142\n",
       "372             141\n",
       "Name: count, dtype: int64"
      ]
     },
     "execution_count": 12,
     "metadata": {},
     "output_type": "execute_result"
    }
   ],
   "source": [
    "class_label = data['roomNumber']\n",
    "\n",
    "class_label.value_counts()"
   ]
  },
  {
   "cell_type": "code",
   "execution_count": 29,
   "metadata": {},
   "outputs": [
    {
     "name": "stdout",
     "output_type": "stream",
     "text": [
      "-114.0\n",
      "-42.0\n",
      "Lower bound outliers: 0\n",
      "Upper bound outliers: 28\n"
     ]
    }
   ],
   "source": [
    "rss_q1 = data[\"RSS\"].quantile(0.25)\n",
    "rss_q3 = data[\"RSS\"].quantile(0.75)\n",
    "rss_iqr = rss_q3 - rss_q1\n",
    "\n",
    "rss_outliers_min_val = rss_q1 - (1.5 * rss_iqr)\n",
    "print(rss_outliers_min_val)\n",
    "\n",
    "rss_outliers_max_val = rss_q3 + (1.5 * rss_iqr)\n",
    "print(rss_outliers_max_val)\n",
    "\n",
    "rss = data[\"RSS\"]\n",
    "\n",
    "upper_bound_outliers = rss[rss > rss_outliers_max_val]\n",
    "lower_bound_outliers = rss[rss < rss_outliers_min_val]\n",
    "\n",
    "print(f\"Lower bound outliers: {len(lower_bound_outliers)}\")\n",
    "print(f\"Upper bound outliers: {len(upper_bound_outliers)}\")\n",
    "\n"
   ]
  }
 ],
 "metadata": {
  "kernelspec": {
   "display_name": "Python 3",
   "language": "python",
   "name": "python3"
  },
  "language_info": {
   "codemirror_mode": {
    "name": "ipython",
    "version": 3
   },
   "file_extension": ".py",
   "mimetype": "text/x-python",
   "name": "python",
   "nbconvert_exporter": "python",
   "pygments_lexer": "ipython3",
   "version": "3.12.3"
  }
 },
 "nbformat": 4,
 "nbformat_minor": 2
}
